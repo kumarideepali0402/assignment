{
 "cells": [
  {
   "cell_type": "code",
   "execution_count": 3,
   "metadata": {},
   "outputs": [
    {
     "name": "stdout",
     "output_type": "stream",
     "text": [
      "Requirement already satisfied: Flask in c:\\users\\deepa\\anaconda3\\lib\\site-packages (2.2.2)\n",
      "Requirement already satisfied: Flask-MySQLdb in c:\\users\\deepa\\anaconda3\\lib\\site-packages (2.0.0)\n",
      "Requirement already satisfied: Werkzeug>=2.2.2 in c:\\users\\deepa\\anaconda3\\lib\\site-packages (from Flask) (2.2.3)\n",
      "Requirement already satisfied: Jinja2>=3.0 in c:\\users\\deepa\\anaconda3\\lib\\site-packages (from Flask) (3.1.2)\n",
      "Requirement already satisfied: itsdangerous>=2.0 in c:\\users\\deepa\\anaconda3\\lib\\site-packages (from Flask) (2.0.1)\n",
      "Requirement already satisfied: click>=8.0 in c:\\users\\deepa\\anaconda3\\lib\\site-packages (from Flask) (8.0.4)\n",
      "Requirement already satisfied: mysqlclient>=2.2.0 in c:\\users\\deepa\\anaconda3\\lib\\site-packages (from Flask-MySQLdb) (2.2.4)\n",
      "Requirement already satisfied: colorama in c:\\users\\deepa\\appdata\\roaming\\python\\python311\\site-packages (from click>=8.0->Flask) (0.4.6)\n",
      "Requirement already satisfied: MarkupSafe>=2.0 in c:\\users\\deepa\\anaconda3\\lib\\site-packages (from Jinja2>=3.0->Flask) (2.1.1)\n",
      "Note: you may need to restart the kernel to use updated packages.\n"
     ]
    }
   ],
   "source": [
    "pip install Flask Flask-MySQLdb\n"
   ]
  },
  {
   "cell_type": "code",
   "execution_count": 4,
   "metadata": {},
   "outputs": [
    {
     "name": "stdout",
     "output_type": "stream",
     "text": [
      " * Serving Flask app '__main__'\n",
      " * Debug mode: on\n"
     ]
    },
    {
     "name": "stderr",
     "output_type": "stream",
     "text": [
      "WARNING: This is a development server. Do not use it in a production deployment. Use a production WSGI server instead.\n",
      " * Running on http://127.0.0.1:5000\n",
      "Press CTRL+C to quit\n",
      " * Restarting with watchdog (windowsapi)\n"
     ]
    },
    {
     "ename": "SystemExit",
     "evalue": "1",
     "output_type": "error",
     "traceback": [
      "An exception has occurred, use %tb to see the full traceback.\n",
      "\u001b[1;31mSystemExit\u001b[0m\u001b[1;31m:\u001b[0m 1\n"
     ]
    }
   ],
   "source": [
    "from flask import Flask, render_template, request, redirect, url_for\n",
    "from flask_mysqldb import MySQL\n",
    "\n",
    "app = Flask(__name__)\n",
    "\n",
    "app.config['MYSQL_HOST'] = 'localhost'\n",
    "app.config['MYSQL_USER'] = 'root'\n",
    "app.config['MYSQL_PASSWORD'] = 'Dk455161@'\n",
    "app.config['MYSQL_DB'] = 'registration_db'\n",
    "\n",
    "mysql = MySQL(app)\n",
    "\n",
    "@app.route('/')\n",
    "def registration_form():\n",
    "    return render_template('register.html')\n",
    "\n",
    "@app.route('/register', methods=['POST'])\n",
    "def register():\n",
    "    if request.method == 'POST':\n",
    "        name = request.form['name']\n",
    "        father_name = request.form['father_name']\n",
    "        mother_name = request.form['mother_name']\n",
    "        phone_number = request.form['phone_number']\n",
    "        email = request.form['email']\n",
    "        DOB = request.form['DOB']\n",
    "        blood_group = request.form['blood_group']\n",
    "        address = request.form['address']\n",
    "        department = request.form['department']\n",
    "        course = request.form['course']\n",
    "        password = request.form['password']\n",
    "\n",
    "        cur = mysql.connection.cursor()\n",
    "        cur.execute(\"INSERT INTO students (name, father_name, mother_name, phone_number, email, DOB, blood_group, address, department, course, password) VALUES (%s, %s, %s, %s, %s, %s, %s, %s, %s, %s, %s)\",\n",
    "                   (name, father_name, mother_name, phone_number,email, DOB, blood_group, address, department, course, password))\n",
    "        mysql.connection.commit()\n",
    "        cur.close()\n",
    "\n",
    "        return render_template('registration.html')\n",
    "\n",
    "if __name__ == '__main__':\n",
    "    app.run(debug=True)"
   ]
  }
 ],
 "metadata": {
  "kernelspec": {
   "display_name": "base",
   "language": "python",
   "name": "python3"
  },
  "language_info": {
   "codemirror_mode": {
    "name": "ipython",
    "version": 3
   },
   "file_extension": ".py",
   "mimetype": "text/x-python",
   "name": "python",
   "nbconvert_exporter": "python",
   "pygments_lexer": "ipython3",
   "version": "3.11.5"
  }
 },
 "nbformat": 4,
 "nbformat_minor": 2
}
